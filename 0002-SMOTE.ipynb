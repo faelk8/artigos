{
 "cells": [
  {
   "cell_type": "markdown",
   "metadata": {},
   "source": [
    "# Balanceamento de dados"
   ]
  },
  {
   "cell_type": "markdown",
   "metadata": {},
   "source": [
    "Trabalhando com dados para classificação podemos encontrar dados desbalanceados, como por exemplo em uma classificação binária 0 ou 1. Podemos ter 9.000 registros de 0 e 1000 registros de 1. Desta forma não fica bem distribuído para um modelo de machine learning aprender;\n",
    "\n",
    "Quando precisamos aplicar um modelo de aprendizagem, este modelo pode não aprender o suficiente devido os dados estarem com poucos exemplos da classe 1, o modelo pode aprender de mais sobre a classe 0 e pouco da classe 1.\n",
    "\n",
    "Vamos criar uma massa de dados como exemplo."
   ]
  },
  {
   "cell_type": "markdown",
   "metadata": {},
   "source": [
    "###  Gerando uma massa de dados"
   ]
  },
  {
   "cell_type": "code",
   "execution_count": 20,
   "metadata": {},
   "outputs": [],
   "source": [
    "from sklearn.datasets import make_classification\n",
    "from matplotlib import pyplot as plt\n",
    "from collections import Counter\n",
    "from numpy import where\n",
    "\n",
    "x, y = make_classification(\n",
    "    n_samples=10000, n_features=2, n_redundant=0, n_clusters_per_class=2, weights=[0.9], flip_y=0)"
   ]
  },
  {
   "cell_type": "code",
   "execution_count": 9,
   "metadata": {},
   "outputs": [
    {
     "name": "stdout",
     "output_type": "stream",
     "text": [
      "Counter({0: 9001, 1: 999})\n"
     ]
    }
   ],
   "source": [
    "count_y = Counter(y)\n",
    "print(count_y)"
   ]
  },
  {
   "cell_type": "code",
   "execution_count": 21,
   "metadata": {},
   "outputs": [
    {
     "data": {
      "image/png": "[encoded data removed]",
      "text/plain": [
       "<Figure size 432x288 with 1 Axes>"
      ]
     },
     "metadata": {
      "needs_background": "light"
     },
     "output_type": "display_data"
    }
   ],
   "source": [
    "for l, _ in count_y.items():\n",
    "    linha = where(y==l)[0]\n",
    "    plt.scatter(x[linha, 0], x[linha, 1], label=str(l))\n",
    "plt.legend()\n",
    "plt.show()"
   ]
  },
  {
   "cell_type": "markdown",
   "metadata": {},
   "source": [
    "Com a massa de dados criada, agora vamos aplicar a tecnica para balancear os dados."
   ]
  },
  {
   "cell_type": "markdown",
   "metadata": {},
   "source": [
    "### Balanceando os dados"
   ]
  },
  {
   "cell_type": "code",
   "execution_count": 25,
   "metadata": {},
   "outputs": [],
   "source": [
    "from imblearn.over_sampling import SMOTE\n",
    "\n",
    "smt = SMOTE()\n",
    "x, y = smt.fit_resample(x,y)"
   ]
  },
  {
   "cell_type": "code",
   "execution_count": 26,
   "metadata": {},
   "outputs": [
    {
     "name": "stdout",
     "output_type": "stream",
     "text": [
      "Counter({1: 9001, 0: 9001})\n"
     ]
    }
   ],
   "source": [
    "# Contagem dos dados\n",
    "vl = Counter(y)\n",
    "print(vl)"
   ]
  },
  {
   "cell_type": "markdown",
   "metadata": {},
   "source": [
    "Após aplicar o SMOTE é possivel ver que os dados agora tem a mesma quantidade de amostra.\n",
    "\n",
    "Uma dica que pode ser útil, quando for aplicar esta tecnica, aplicar após separar em dados de treino e teste, sendo assim o dados de teste permaneceram os originais."
   ]
  },
  {
   "cell_type": "code",
   "execution_count": 32,
   "metadata": {},
   "outputs": [
    {
     "name": "stdout",
     "output_type": "stream",
     "text": [
      "Antes do balanceamento:\n",
      "(8000, 2) (2000, 2)\n",
      "(8000,) (2000,)\n",
      "\n",
      "Depois do balanceamento\n",
      "(14402, 2) (2000, 2)\n",
      "(14402,) (2000,)\n"
     ]
    }
   ],
   "source": [
    "from sklearn.model_selection import train_test_split\n",
    "from sklearn.datasets import make_classification\n",
    "from imblearn.over_sampling import SMOTE\n",
    "\n",
    "# Gerando uma nova massa de dados\n",
    "x, y = make_classification(\n",
    "    n_samples=10000, n_features=2, n_redundant=0, n_clusters_per_class=2, weights=[0.9], flip_y=0)\n",
    "\n",
    "# Dividindo em treino e teste\n",
    "x_treino, x_teste, y_treino, y_teste = train_test_split(x, y, test_size=.2, stratify=y)\n",
    "print('Antes do balanceamento:')\n",
    "print(x_treino.shape, x_teste.shape)\n",
    "print(y_treino.shape, y_teste.shape)\n",
    "\n",
    "# Balanceando os dados\n",
    "smt = SMOTE()\n",
    "x_treino, y_treino = smt.fit_resample(x_treino, y_treino)\n",
    "print('\\nDepois do balanceamento')\n",
    "print(x_treino.shape, x_teste.shape)\n",
    "print(y_treino.shape, y_teste.shape)"
   ]
  },
  {
   "cell_type": "markdown",
   "metadata": {},
   "source": [
    "O objeto stratify = y dentro do train_test_split matem uma proporção para o treinamento dos dados. Por exemplo se a divisão for de 80% de valor 0 e e 20% de valor1, ela garantirá que a divisão tenha a measma proporção de 80/20."
   ]
  },
  {
   "cell_type": "markdown",
   "metadata": {},
   "source": [
    "**Fonte**: https://machinelearningmastery.com/"
   ]
  }
 ],
 "metadata": {
  "kernelspec": {
   "display_name": "Python 3.7.7 64-bit ('anaconda3': virtualenv)",
   "language": "python",
   "name": "python37764bitanaconda3virtualenv59137608e84542c9aff4c318f048b638"
  },
  "language_info": {
   "codemirror_mode": {
    "name": "ipython",
    "version": 3
   },
   "file_extension": ".py",
   "mimetype": "text/x-python",
   "name": "python",
   "nbconvert_exporter": "python",
   "pygments_lexer": "ipython3",
   "version": "3.7.7"
  }
 },
 "nbformat": 4,
 "nbformat_minor": 4
}
